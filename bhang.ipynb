{
 "cells": [
  {
   "cell_type": "code",
   "execution_count": 3,
   "metadata": {},
   "outputs": [],
   "source": [
    "import numpy as np\n",
    "import matplotlib.pyplot as plt\n",
    "from matplotlib.animation import FuncAnimation, FFMpegWriter"
   ]
  },
  {
   "cell_type": "code",
   "execution_count": 4,
   "metadata": {},
   "outputs": [],
   "source": [
    "import pickle"
   ]
  },
  {
   "cell_type": "code",
   "execution_count": 5,
   "metadata": {},
   "outputs": [],
   "source": [
    "# Define the functions to be pickled\n",
    "def create_function_from_string(equation):\n",
    "    # Safe list of functions and constants\n",
    "    allowed_functions = {\n",
    "        'sin': np.sin,\n",
    "        'cos': np.cos,\n",
    "        'tan': np.tan,\n",
    "        'log': np.log,\n",
    "        'exp': np.exp,\n",
    "        'sqrt': np.sqrt,\n",
    "        'power': np.power,\n",
    "        'pi': np.pi,\n",
    "        'e': np.e\n",
    "    }\n",
    "\n",
    "    # Cleaning and checking the input\n",
    "    equation = equation.replace('^', '**')  # Replace ^ with ** for power operation\n",
    "\n",
    "    # Defining a function that evaluates the input equation\n",
    "    def fx_equal_0(x):\n",
    "        try:\n",
    "            # Evaluating the equation safely\n",
    "            return eval(equation, {\"__builtins__\": None}, {**allowed_functions, 'x': x})\n",
    "        except Exception as e:\n",
    "            print(f\"Error in evaluating the equation: {e}\")\n",
    "            return None\n",
    "\n",
    "    return fx_equal_0"
   ]
  },
  {
   "cell_type": "code",
   "execution_count": 7,
   "metadata": {},
   "outputs": [],
   "source": [
    "def newton_raphson(f, df, x0, tol=1e-8, max_iter=1000):\n",
    "    x = x0\n",
    "    steps = [(x, f(x))]\n",
    "    errors = []\n",
    "    for i in range(max_iter):\n",
    "        fx = f(x)\n",
    "        dfx = df(x)\n",
    "        if abs(fx) < tol:\n",
    "            return x, errors, steps\n",
    "        if dfx == 0:\n",
    "            raise ValueError(\"Derivative is zero. No solution found.\")\n",
    "        x_new = x - fx / dfx\n",
    "        steps.append((x_new, f(x_new)))\n",
    "        errors.append(abs(x_new - x))\n",
    "        x = x_new\n",
    "    raise ValueError(\"Maximum iterations exceeded. No solution found.\")"
   ]
  },
  {
   "cell_type": "code",
   "execution_count": 1,
   "metadata": {},
   "outputs": [],
   "source": [
    "def df(f, x):\n",
    "    h = 1e-6  # Small step size\n",
    "    return (f(x + h) - f(x)) / h"
   ]
  },
  {
   "cell_type": "code",
   "execution_count": 8,
   "metadata": {},
   "outputs": [],
   "source": [
    "# Save the functions to a pickle file\n",
    "with open('functions.pkl', 'wb') as file:\n",
    "    pickle.dump((create_function_from_string, newton_raphson, df), file)\n"
   ]
  },
  {
   "cell_type": "code",
   "execution_count": null,
   "metadata": {},
   "outputs": [],
   "source": []
  }
 ],
 "metadata": {
  "kernelspec": {
   "display_name": "Python 3",
   "language": "python",
   "name": "python3"
  },
  "language_info": {
   "codemirror_mode": {
    "name": "ipython",
    "version": 3
   },
   "file_extension": ".py",
   "mimetype": "text/x-python",
   "name": "python",
   "nbconvert_exporter": "python",
   "pygments_lexer": "ipython3",
   "version": "3.11.1"
  }
 },
 "nbformat": 4,
 "nbformat_minor": 2
}
